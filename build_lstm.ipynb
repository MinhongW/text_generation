{
  "nbformat": 4,
  "nbformat_minor": 0,
  "metadata": {
    "colab": {
      "provenance": [],
      "authorship_tag": "ABX9TyOlnHdKX5qYh8JNyLeDgCeQ",
      "include_colab_link": true
    },
    "kernelspec": {
      "name": "python3",
      "display_name": "Python 3"
    },
    "language_info": {
      "name": "python"
    },
    "accelerator": "GPU",
    "gpuClass": "standard"
  },
  "cells": [
    {
      "cell_type": "markdown",
      "metadata": {
        "id": "view-in-github",
        "colab_type": "text"
      },
      "source": [
        "<a href=\"https://colab.research.google.com/github/MinhongW/text_generation/blob/main/build_lstm.ipynb\" target=\"_parent\"><img src=\"https://colab.research.google.com/assets/colab-badge.svg\" alt=\"Open In Colab\"/></a>"
      ]
    },
    {
      "cell_type": "code",
      "execution_count": 2,
      "metadata": {
        "id": "7wxAtBDq-eu0"
      },
      "outputs": [],
      "source": [
        "import pandas as pd\n",
        "import json"
      ]
    },
    {
      "cell_type": "code",
      "source": [
        "!pip install transformers"
      ],
      "metadata": {
        "colab": {
          "base_uri": "https://localhost:8080/"
        },
        "id": "c5lExSVMqNih",
        "outputId": "204ebbbe-c909-4749-a384-a903f16e562b"
      },
      "execution_count": 3,
      "outputs": [
        {
          "output_type": "stream",
          "name": "stdout",
          "text": [
            "Looking in indexes: https://pypi.org/simple, https://us-python.pkg.dev/colab-wheels/public/simple/\n",
            "Collecting transformers\n",
            "  Downloading transformers-4.28.1-py3-none-any.whl (7.0 MB)\n",
            "\u001b[2K     \u001b[90m━━━━━━━━━━━━━━━━━━━━━━━━━━━━━━━━━━━━━━━━\u001b[0m \u001b[32m7.0/7.0 MB\u001b[0m \u001b[31m28.8 MB/s\u001b[0m eta \u001b[36m0:00:00\u001b[0m\n",
            "\u001b[?25hRequirement already satisfied: numpy>=1.17 in /usr/local/lib/python3.9/dist-packages (from transformers) (1.22.4)\n",
            "Requirement already satisfied: pyyaml>=5.1 in /usr/local/lib/python3.9/dist-packages (from transformers) (6.0)\n",
            "Requirement already satisfied: tqdm>=4.27 in /usr/local/lib/python3.9/dist-packages (from transformers) (4.65.0)\n",
            "Collecting tokenizers!=0.11.3,<0.14,>=0.11.1\n",
            "  Downloading tokenizers-0.13.3-cp39-cp39-manylinux_2_17_x86_64.manylinux2014_x86_64.whl (7.8 MB)\n",
            "\u001b[2K     \u001b[90m━━━━━━━━━━━━━━━━━━━━━━━━━━━━━━━━━━━━━━━━\u001b[0m \u001b[32m7.8/7.8 MB\u001b[0m \u001b[31m67.9 MB/s\u001b[0m eta \u001b[36m0:00:00\u001b[0m\n",
            "\u001b[?25hRequirement already satisfied: filelock in /usr/local/lib/python3.9/dist-packages (from transformers) (3.11.0)\n",
            "Requirement already satisfied: packaging>=20.0 in /usr/local/lib/python3.9/dist-packages (from transformers) (23.1)\n",
            "Requirement already satisfied: requests in /usr/local/lib/python3.9/dist-packages (from transformers) (2.27.1)\n",
            "Collecting huggingface-hub<1.0,>=0.11.0\n",
            "  Downloading huggingface_hub-0.13.4-py3-none-any.whl (200 kB)\n",
            "\u001b[2K     \u001b[90m━━━━━━━━━━━━━━━━━━━━━━━━━━━━━━━━━━━━━━━\u001b[0m \u001b[32m200.1/200.1 kB\u001b[0m \u001b[31m7.6 MB/s\u001b[0m eta \u001b[36m0:00:00\u001b[0m\n",
            "\u001b[?25hRequirement already satisfied: regex!=2019.12.17 in /usr/local/lib/python3.9/dist-packages (from transformers) (2022.10.31)\n",
            "Requirement already satisfied: typing-extensions>=3.7.4.3 in /usr/local/lib/python3.9/dist-packages (from huggingface-hub<1.0,>=0.11.0->transformers) (4.5.0)\n",
            "Requirement already satisfied: urllib3<1.27,>=1.21.1 in /usr/local/lib/python3.9/dist-packages (from requests->transformers) (1.26.15)\n",
            "Requirement already satisfied: charset-normalizer~=2.0.0 in /usr/local/lib/python3.9/dist-packages (from requests->transformers) (2.0.12)\n",
            "Requirement already satisfied: certifi>=2017.4.17 in /usr/local/lib/python3.9/dist-packages (from requests->transformers) (2022.12.7)\n",
            "Requirement already satisfied: idna<4,>=2.5 in /usr/local/lib/python3.9/dist-packages (from requests->transformers) (3.4)\n",
            "Installing collected packages: tokenizers, huggingface-hub, transformers\n",
            "Successfully installed huggingface-hub-0.13.4 tokenizers-0.13.3 transformers-4.28.1\n"
          ]
        }
      ]
    },
    {
      "cell_type": "code",
      "source": [
        "!git clone https://github.com/MinhongW/text_generation.git"
      ],
      "metadata": {
        "colab": {
          "base_uri": "https://localhost:8080/"
        },
        "id": "CyfT6_J9-mSk",
        "outputId": "4dd9b750-cb88-4e8e-8cca-3dc66803a12a"
      },
      "execution_count": 4,
      "outputs": [
        {
          "output_type": "stream",
          "name": "stdout",
          "text": [
            "Cloning into 'text_generation'...\n",
            "remote: Enumerating objects: 34, done.\u001b[K\n",
            "remote: Counting objects: 100% (34/34), done.\u001b[K\n",
            "remote: Compressing objects: 100% (30/30), done.\u001b[K\n",
            "remote: Total 34 (delta 9), reused 0 (delta 0), pack-reused 0\u001b[K\n",
            "Unpacking objects: 100% (34/34), 1.58 MiB | 3.55 MiB/s, done.\n"
          ]
        }
      ]
    },
    {
      "cell_type": "code",
      "source": [
        "t1 = open('text_generation/data/table_train.json')\n",
        "t2 = open('text_generation/data/table_desc_train.json')\n",
        "t3 = open('text_generation/data/paper_train.json')\n",
        "\n",
        "v1 = open('text_generation/data/table_val.json')\n",
        "v2 = open('text_generation/data/table_desc_val.json')\n",
        "v3 = open('text_generation/data/paper_val.json')\n",
        "\n",
        "te1 = open('text_generation/data/table_test.json')\n",
        "te2 = open('text_generation/data/table_desc_test.json')\n",
        "te3 = open('text_generation/data/paper_test.json')"
      ],
      "metadata": {
        "id": "JEDPEbFA-pEq"
      },
      "execution_count": 5,
      "outputs": []
    },
    {
      "cell_type": "code",
      "source": [
        "tables_train = json.load(t1)\n",
        "descs_train = json.load(t2)\n",
        "papers_train = json.load(t3)\n",
        "\n",
        "tables_val = json.load(v1)\n",
        "descs_val = json.load(v2)\n",
        "papers_val = json.load(v3)\n",
        "\n",
        "tables_test = json.load(te1)\n",
        "descs_test = json.load(te2)\n",
        "papers_test = json.load(te3)"
      ],
      "metadata": {
        "id": "CxWJ54kB-r3Q"
      },
      "execution_count": 6,
      "outputs": []
    },
    {
      "cell_type": "code",
      "source": [
        "def naive_representation(tables, descs):\n",
        "    \"\"\"\n",
        "    Input_text is generated by naive representation of the tables.\n",
        "    Each table is simply flattened into a sequence ignoring its table structure\n",
        "    by concatenating captions, headers, metrics and targeted cell values.\n",
        "    Target_text is the description of the corresponding table.\n",
        "    Returns a df contains input_text and target_text\n",
        "    \n",
        "    \"\"\"\n",
        "    \n",
        "    data = {'input_text':[],\n",
        "           'target_text':[]}\n",
        "    \n",
        "    for i in range(len(tables)):\n",
        "        table = tables[i]\n",
        "        caption = table['table_id'] + ' ' + table['caption']\n",
        "        row_names = ' '.join(' '.join(x) for x in table['row_headers'])\n",
        "        col_names = ' '.join(' '.join(x) for x in table['column_headers'])\n",
        "        metrics = ' '.join(table['metrics_type'])\n",
        "        values = ' '.join(' '.join(x) for x in table['contents'])        \n",
        "        tmp = [caption, row_names, col_names, metrics, values]\n",
        "        text = ' '.join(tmp)\n",
        "        \n",
        "        desc = descs[i]['description']        \n",
        "        \n",
        "        data['input_text'].append(text)\n",
        "        data['target_text'].append(desc)\n",
        "    \n",
        "    df = pd.DataFrame(data)      \n",
        "    \n",
        "    return df"
      ],
      "metadata": {
        "id": "2sT-3_Z5-w3b"
      },
      "execution_count": 7,
      "outputs": []
    },
    {
      "cell_type": "code",
      "source": [
        "df_train = naive_representation(tables_train, descs_train)\n",
        "df_val = naive_representation(tables_val, descs_val)\n",
        "df_test = naive_representation(tables_test, descs_test)"
      ],
      "metadata": {
        "id": "sxa8qCS1-z-3"
      },
      "execution_count": 8,
      "outputs": []
    },
    {
      "cell_type": "code",
      "source": [
        "df_train.head()"
      ],
      "metadata": {
        "colab": {
          "base_uri": "https://localhost:8080/",
          "height": 206
        },
        "id": "n9vbz3ie-1xe",
        "outputId": "0057037c-c645-4f73-a3fa-cdd33845bcd4"
      },
      "execution_count": 9,
      "outputs": [
        {
          "output_type": "execute_result",
          "data": {
            "text/plain": [
              "                                          input_text  \\\n",
              "0  table_2 Comparison of different position featu...   \n",
              "1  table_3 Pearson correlation values between hum...   \n",
              "2  table_4 Comparison between rationale models (m...   \n",
              "3  table_2 Spearman’s rank correlation results on...   \n",
              "4  table_4 Examples of attention weights in diffe...   \n",
              "\n",
              "                                         target_text  \n",
              "0  Table 2 summarizes the performances of propose...  \n",
              "1  Table 3 presents the correlation results for t...  \n",
              "2  Results. Table 4 presents the results of our r...  \n",
              "3  Table 2 shows the results of our contextdepend...  \n",
              "4  From Table 4, we can find that in the first ho...  "
            ],
            "text/html": [
              "\n",
              "  <div id=\"df-f6874ee0-5c04-44bb-a784-85fc33848460\">\n",
              "    <div class=\"colab-df-container\">\n",
              "      <div>\n",
              "<style scoped>\n",
              "    .dataframe tbody tr th:only-of-type {\n",
              "        vertical-align: middle;\n",
              "    }\n",
              "\n",
              "    .dataframe tbody tr th {\n",
              "        vertical-align: top;\n",
              "    }\n",
              "\n",
              "    .dataframe thead th {\n",
              "        text-align: right;\n",
              "    }\n",
              "</style>\n",
              "<table border=\"1\" class=\"dataframe\">\n",
              "  <thead>\n",
              "    <tr style=\"text-align: right;\">\n",
              "      <th></th>\n",
              "      <th>input_text</th>\n",
              "      <th>target_text</th>\n",
              "    </tr>\n",
              "  </thead>\n",
              "  <tbody>\n",
              "    <tr>\n",
              "      <th>0</th>\n",
              "      <td>table_2 Comparison of different position featu...</td>\n",
              "      <td>Table 2 summarizes the performances of propose...</td>\n",
              "    </tr>\n",
              "    <tr>\n",
              "      <th>1</th>\n",
              "      <td>table_3 Pearson correlation values between hum...</td>\n",
              "      <td>Table 3 presents the correlation results for t...</td>\n",
              "    </tr>\n",
              "    <tr>\n",
              "      <th>2</th>\n",
              "      <td>table_4 Comparison between rationale models (m...</td>\n",
              "      <td>Results. Table 4 presents the results of our r...</td>\n",
              "    </tr>\n",
              "    <tr>\n",
              "      <th>3</th>\n",
              "      <td>table_2 Spearman’s rank correlation results on...</td>\n",
              "      <td>Table 2 shows the results of our contextdepend...</td>\n",
              "    </tr>\n",
              "    <tr>\n",
              "      <th>4</th>\n",
              "      <td>table_4 Examples of attention weights in diffe...</td>\n",
              "      <td>From Table 4, we can find that in the first ho...</td>\n",
              "    </tr>\n",
              "  </tbody>\n",
              "</table>\n",
              "</div>\n",
              "      <button class=\"colab-df-convert\" onclick=\"convertToInteractive('df-f6874ee0-5c04-44bb-a784-85fc33848460')\"\n",
              "              title=\"Convert this dataframe to an interactive table.\"\n",
              "              style=\"display:none;\">\n",
              "        \n",
              "  <svg xmlns=\"http://www.w3.org/2000/svg\" height=\"24px\"viewBox=\"0 0 24 24\"\n",
              "       width=\"24px\">\n",
              "    <path d=\"M0 0h24v24H0V0z\" fill=\"none\"/>\n",
              "    <path d=\"M18.56 5.44l.94 2.06.94-2.06 2.06-.94-2.06-.94-.94-2.06-.94 2.06-2.06.94zm-11 1L8.5 8.5l.94-2.06 2.06-.94-2.06-.94L8.5 2.5l-.94 2.06-2.06.94zm10 10l.94 2.06.94-2.06 2.06-.94-2.06-.94-.94-2.06-.94 2.06-2.06.94z\"/><path d=\"M17.41 7.96l-1.37-1.37c-.4-.4-.92-.59-1.43-.59-.52 0-1.04.2-1.43.59L10.3 9.45l-7.72 7.72c-.78.78-.78 2.05 0 2.83L4 21.41c.39.39.9.59 1.41.59.51 0 1.02-.2 1.41-.59l7.78-7.78 2.81-2.81c.8-.78.8-2.07 0-2.86zM5.41 20L4 18.59l7.72-7.72 1.47 1.35L5.41 20z\"/>\n",
              "  </svg>\n",
              "      </button>\n",
              "      \n",
              "  <style>\n",
              "    .colab-df-container {\n",
              "      display:flex;\n",
              "      flex-wrap:wrap;\n",
              "      gap: 12px;\n",
              "    }\n",
              "\n",
              "    .colab-df-convert {\n",
              "      background-color: #E8F0FE;\n",
              "      border: none;\n",
              "      border-radius: 50%;\n",
              "      cursor: pointer;\n",
              "      display: none;\n",
              "      fill: #1967D2;\n",
              "      height: 32px;\n",
              "      padding: 0 0 0 0;\n",
              "      width: 32px;\n",
              "    }\n",
              "\n",
              "    .colab-df-convert:hover {\n",
              "      background-color: #E2EBFA;\n",
              "      box-shadow: 0px 1px 2px rgba(60, 64, 67, 0.3), 0px 1px 3px 1px rgba(60, 64, 67, 0.15);\n",
              "      fill: #174EA6;\n",
              "    }\n",
              "\n",
              "    [theme=dark] .colab-df-convert {\n",
              "      background-color: #3B4455;\n",
              "      fill: #D2E3FC;\n",
              "    }\n",
              "\n",
              "    [theme=dark] .colab-df-convert:hover {\n",
              "      background-color: #434B5C;\n",
              "      box-shadow: 0px 1px 3px 1px rgba(0, 0, 0, 0.15);\n",
              "      filter: drop-shadow(0px 1px 2px rgba(0, 0, 0, 0.3));\n",
              "      fill: #FFFFFF;\n",
              "    }\n",
              "  </style>\n",
              "\n",
              "      <script>\n",
              "        const buttonEl =\n",
              "          document.querySelector('#df-f6874ee0-5c04-44bb-a784-85fc33848460 button.colab-df-convert');\n",
              "        buttonEl.style.display =\n",
              "          google.colab.kernel.accessAllowed ? 'block' : 'none';\n",
              "\n",
              "        async function convertToInteractive(key) {\n",
              "          const element = document.querySelector('#df-f6874ee0-5c04-44bb-a784-85fc33848460');\n",
              "          const dataTable =\n",
              "            await google.colab.kernel.invokeFunction('convertToInteractive',\n",
              "                                                     [key], {});\n",
              "          if (!dataTable) return;\n",
              "\n",
              "          const docLinkHtml = 'Like what you see? Visit the ' +\n",
              "            '<a target=\"_blank\" href=https://colab.research.google.com/notebooks/data_table.ipynb>data table notebook</a>'\n",
              "            + ' to learn more about interactive tables.';\n",
              "          element.innerHTML = '';\n",
              "          dataTable['output_type'] = 'display_data';\n",
              "          await google.colab.output.renderOutput(dataTable, element);\n",
              "          const docLink = document.createElement('div');\n",
              "          docLink.innerHTML = docLinkHtml;\n",
              "          element.appendChild(docLink);\n",
              "        }\n",
              "      </script>\n",
              "    </div>\n",
              "  </div>\n",
              "  "
            ]
          },
          "metadata": {},
          "execution_count": 9
        }
      ]
    },
    {
      "cell_type": "code",
      "source": [
        "!pip install SentencePiece"
      ],
      "metadata": {
        "id": "c6ZSWPVf-39J",
        "colab": {
          "base_uri": "https://localhost:8080/"
        },
        "outputId": "7f4892e6-3601-4b6b-b49e-058ff633560e"
      },
      "execution_count": 10,
      "outputs": [
        {
          "output_type": "stream",
          "name": "stdout",
          "text": [
            "Looking in indexes: https://pypi.org/simple, https://us-python.pkg.dev/colab-wheels/public/simple/\n",
            "Collecting SentencePiece\n",
            "  Downloading sentencepiece-0.1.98-cp39-cp39-manylinux_2_17_x86_64.manylinux2014_x86_64.whl (1.3 MB)\n",
            "\u001b[2K     \u001b[90m━━━━━━━━━━━━━━━━━━━━━━━━━━━━━━━━━━━━━━━━\u001b[0m \u001b[32m1.3/1.3 MB\u001b[0m \u001b[31m57.1 MB/s\u001b[0m eta \u001b[36m0:00:00\u001b[0m\n",
            "\u001b[?25hInstalling collected packages: SentencePiece\n",
            "Successfully installed SentencePiece-0.1.98\n"
          ]
        }
      ]
    },
    {
      "cell_type": "markdown",
      "source": [
        "# Build RNN model by pulling out the last layer of T5 model as embeddings"
      ],
      "metadata": {
        "id": "nq3ODJwM-43p"
      }
    },
    {
      "cell_type": "code",
      "source": [
        "import torch\n",
        "import torch.nn as nn\n",
        "import torch.optim as optim\n",
        "from torch.utils.data import Dataset, DataLoader\n",
        "from torch.nn.utils.rnn import pad_sequence\n",
        "from transformers import AutoTokenizer, T5Model\n",
        "\n",
        "\n",
        "device = torch.device(\"cuda\" if torch.cuda.is_available() else \"cpu\")\n",
        "device"
      ],
      "metadata": {
        "colab": {
          "base_uri": "https://localhost:8080/"
        },
        "id": "hxzu__uqhYdU",
        "outputId": "a74a1216-ef9c-4c05-a8a3-a8ce30047829"
      },
      "execution_count": 14,
      "outputs": [
        {
          "output_type": "execute_result",
          "data": {
            "text/plain": [
              "device(type='cuda')"
            ]
          },
          "metadata": {},
          "execution_count": 14
        }
      ]
    },
    {
      "cell_type": "code",
      "source": [],
      "metadata": {
        "id": "0n6TMiD3nSpu"
      },
      "execution_count": null,
      "outputs": []
    },
    {
      "cell_type": "code",
      "source": [
        "\n",
        "# Define hyperparameters\n",
        "batch_size = 32\n",
        "embedding_dim = 128\n",
        "hidden_dim = 256\n",
        "num_layers = 2\n",
        "lr = 1e-3\n",
        "num_epochs = 2\n",
        "\n",
        "# Define custom dataset and dataloader\n",
        "class TextDataset(Dataset):\n",
        "    def __init__(self, df, tokenizer):\n",
        "        self.df = df\n",
        "        self.tokenizer = tokenizer\n",
        "        \n",
        "    def __len__(self):\n",
        "        return len(self.df)\n",
        "    \n",
        "    def __getitem__(self, index):\n",
        "        input_text = self.df.iloc[index][\"input_text\"]\n",
        "        target_text = self.df.iloc[index][\"target_text\"]\n",
        "        input_tokens = self.tokenizer.encode(input_text, add_special_tokens=False, padding='max_length', truncation=True)\n",
        "        target_tokens = self.tokenizer.encode(target_text, add_special_tokens=False, padding='max_length', truncation=True)\n",
        "        return torch.tensor(input_tokens), torch.tensor(target_tokens)\n",
        "\n",
        "def collate_fn(batch):\n",
        "    input_batch = [item[0] for item in batch]\n",
        "    target_batch = [item[1] for item in batch]\n",
        "    input_padded = pad_sequence(input_batch, batch_first=True, padding_value=0)\n",
        "    target_padded = pad_sequence(target_batch, batch_first=True, padding_value=0)\n",
        "    return input_padded, target_padded\n",
        "\n",
        "# Prepare data\n",
        "tokenizer = AutoTokenizer.from_pretrained('t5-small')\n",
        "model_t5 = T5Model.from_pretrained('t5-small')\n",
        "train_dataset = TextDataset(df_train, tokenizer)\n",
        "train_loader = DataLoader(train_dataset, batch_size=batch_size, shuffle=True, collate_fn=collate_fn)\n",
        "\n",
        "\n",
        "# Freeze T5 parameters\n",
        "for param in model_t5.parameters():\n",
        "    param.requires_grad = False\n",
        "\n",
        "t5_embedding = model_t5.get_input_embeddings()\n",
        "\n",
        "\n",
        "# Define model architecture\n",
        "class LSTMGenerator(nn.Module):\n",
        "    def __init__(self, embedding_dim, hidden_dim, vocab_size, num_layers):\n",
        "        super(LSTMGenerator, self).__init__()\n",
        "        #self.embedding = nn.Embedding(vocab_size, embedding_dim)\n",
        "        self.embedding = t5_embedding\n",
        "        #self.lstm = nn.LSTM(embedding_dim, hidden_dim, num_layers, batch_first=True)\n",
        "        self.lstm = nn.LSTM(t5_embedding.embedding_dim, hidden_dim, num_layers, batch_first=True)\n",
        "        self.fc = nn.Linear(hidden_dim, vocab_size)\n",
        "        \n",
        "    def forward(self, x):\n",
        "        x = self.embedding(x)\n",
        "        output, _ = self.lstm(x)\n",
        "        output = self.fc(output)\n",
        "        return output\n",
        "\n",
        "#vocab_size = tokenizer.vocab_size\n",
        "vocab_size = tokenizer.vocab_size\n",
        "model = LSTMGenerator(embedding_dim, hidden_dim, vocab_size, num_layers)\n",
        "model.to(device)\n",
        "\n",
        "# Define loss function and optimizer\n",
        "criterion = nn.CrossEntropyLoss()\n",
        "optimizer = optim.Adam(model.parameters(), lr=lr)\n",
        "\n",
        "# Train model\n",
        "for epoch in range(num_epochs):\n",
        "    running_loss = 0.0\n",
        "    for i, batch in enumerate(train_loader):\n",
        "        inputs, targets = batch\n",
        "        inputs, targets = inputs.to(device), targets.to(device)\n",
        "        optimizer.zero_grad()\n",
        "        outputs = model(inputs)\n",
        "        #outputs = outputs[:, :-1, :].contiguous().view(-1, vocab_size)\n",
        "        #targets = targets[:, 1:].contiguous().view(-1)\n",
        "        #loss = criterion(outputs, targets)\n",
        "        loss = criterion(outputs.view(-1, vocab_size), targets.view(-1).to(device))\n",
        "        loss.backward()\n",
        "        optimizer.step()\n",
        "        running_loss += loss.item()\n",
        "        print(f\"Epoch [{epoch+1}/{num_epochs}], Batch [{i+1}/{len(train_loader)}], Loss: {running_loss/100:.4f}\")\n",
        "        running_loss = 0.0\n"
      ],
      "metadata": {
        "colab": {
          "base_uri": "https://localhost:8080/"
        },
        "id": "IlkOv4qRfsZj",
        "outputId": "15da3121-8981-4080-9b24-8b47961697bc"
      },
      "execution_count": 17,
      "outputs": [
        {
          "output_type": "stream",
          "name": "stdout",
          "text": [
            "Epoch [1/2], Batch [1/34], Loss: 0.1036\n",
            "Epoch [1/2], Batch [2/34], Loss: 0.1003\n",
            "Epoch [1/2], Batch [3/34], Loss: 0.0967\n",
            "Epoch [1/2], Batch [4/34], Loss: 0.0918\n",
            "Epoch [1/2], Batch [5/34], Loss: 0.0848\n",
            "Epoch [1/2], Batch [6/34], Loss: 0.0806\n",
            "Epoch [1/2], Batch [7/34], Loss: 0.0711\n",
            "Epoch [1/2], Batch [8/34], Loss: 0.0628\n",
            "Epoch [1/2], Batch [9/34], Loss: 0.0566\n",
            "Epoch [1/2], Batch [10/34], Loss: 0.0519\n",
            "Epoch [1/2], Batch [11/34], Loss: 0.0500\n",
            "Epoch [1/2], Batch [12/34], Loss: 0.0412\n",
            "Epoch [1/2], Batch [13/34], Loss: 0.0354\n",
            "Epoch [1/2], Batch [14/34], Loss: 0.0331\n",
            "Epoch [1/2], Batch [15/34], Loss: 0.0366\n",
            "Epoch [1/2], Batch [16/34], Loss: 0.0312\n",
            "Epoch [1/2], Batch [17/34], Loss: 0.0347\n",
            "Epoch [1/2], Batch [18/34], Loss: 0.0297\n",
            "Epoch [1/2], Batch [19/34], Loss: 0.0328\n",
            "Epoch [1/2], Batch [20/34], Loss: 0.0371\n",
            "Epoch [1/2], Batch [21/34], Loss: 0.0385\n",
            "Epoch [1/2], Batch [22/34], Loss: 0.0287\n",
            "Epoch [1/2], Batch [23/34], Loss: 0.0307\n",
            "Epoch [1/2], Batch [24/34], Loss: 0.0296\n",
            "Epoch [1/2], Batch [25/34], Loss: 0.0356\n",
            "Epoch [1/2], Batch [26/34], Loss: 0.0316\n",
            "Epoch [1/2], Batch [27/34], Loss: 0.0296\n",
            "Epoch [1/2], Batch [28/34], Loss: 0.0358\n",
            "Epoch [1/2], Batch [29/34], Loss: 0.0334\n",
            "Epoch [1/2], Batch [30/34], Loss: 0.0319\n",
            "Epoch [1/2], Batch [31/34], Loss: 0.0284\n",
            "Epoch [1/2], Batch [32/34], Loss: 0.0312\n",
            "Epoch [1/2], Batch [33/34], Loss: 0.0297\n",
            "Epoch [1/2], Batch [34/34], Loss: 0.0315\n",
            "Epoch [2/2], Batch [1/34], Loss: 0.0304\n",
            "Epoch [2/2], Batch [2/34], Loss: 0.0288\n",
            "Epoch [2/2], Batch [3/34], Loss: 0.0303\n",
            "Epoch [2/2], Batch [4/34], Loss: 0.0325\n",
            "Epoch [2/2], Batch [5/34], Loss: 0.0325\n",
            "Epoch [2/2], Batch [6/34], Loss: 0.0269\n",
            "Epoch [2/2], Batch [7/34], Loss: 0.0326\n",
            "Epoch [2/2], Batch [8/34], Loss: 0.0255\n",
            "Epoch [2/2], Batch [9/34], Loss: 0.0326\n",
            "Epoch [2/2], Batch [10/34], Loss: 0.0333\n",
            "Epoch [2/2], Batch [11/34], Loss: 0.0243\n",
            "Epoch [2/2], Batch [12/34], Loss: 0.0284\n",
            "Epoch [2/2], Batch [13/34], Loss: 0.0291\n",
            "Epoch [2/2], Batch [14/34], Loss: 0.0271\n",
            "Epoch [2/2], Batch [15/34], Loss: 0.0331\n",
            "Epoch [2/2], Batch [16/34], Loss: 0.0305\n",
            "Epoch [2/2], Batch [17/34], Loss: 0.0284\n",
            "Epoch [2/2], Batch [18/34], Loss: 0.0306\n",
            "Epoch [2/2], Batch [19/34], Loss: 0.0271\n",
            "Epoch [2/2], Batch [20/34], Loss: 0.0256\n",
            "Epoch [2/2], Batch [21/34], Loss: 0.0317\n",
            "Epoch [2/2], Batch [22/34], Loss: 0.0315\n",
            "Epoch [2/2], Batch [23/34], Loss: 0.0295\n",
            "Epoch [2/2], Batch [24/34], Loss: 0.0310\n",
            "Epoch [2/2], Batch [25/34], Loss: 0.0310\n",
            "Epoch [2/2], Batch [26/34], Loss: 0.0342\n",
            "Epoch [2/2], Batch [27/34], Loss: 0.0311\n",
            "Epoch [2/2], Batch [28/34], Loss: 0.0277\n",
            "Epoch [2/2], Batch [29/34], Loss: 0.0275\n",
            "Epoch [2/2], Batch [30/34], Loss: 0.0253\n",
            "Epoch [2/2], Batch [31/34], Loss: 0.0306\n",
            "Epoch [2/2], Batch [32/34], Loss: 0.0320\n",
            "Epoch [2/2], Batch [33/34], Loss: 0.0291\n",
            "Epoch [2/2], Batch [34/34], Loss: 0.0321\n"
          ]
        }
      ]
    },
    {
      "cell_type": "code",
      "source": [],
      "metadata": {
        "id": "VKHisqM8ggZ7"
      },
      "execution_count": null,
      "outputs": []
    }
  ]
}